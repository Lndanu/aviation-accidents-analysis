{
 "cells": [
  {
   "cell_type": "markdown",
   "metadata": {},
   "source": [
    "# Aviation Risk Analysis for Aircraft Acquisition\n",
    "\n",
    "## Introduction\n",
    "As our company explores the opportunity to diversify into the aviation industry, this project aims to identify aircraft types with the lowest risk based on historical accident data. Using aviation incident records from 1962 to 2023, our goal is to deliver data-driven insights to guide aircraft purchasing decisions.\n",
    "\n",
    "### Stakeholder\n",
    "The Head of the Aviation Division will use this analysis to decide which aircraft to consider acquiring for safe and reliable operations. Our recommendations aim to reduce operational risks and ensure strong entry into the aviation market."
   ]
  }
 ],
 "metadata": {
  "kernelspec": {
   "display_name": "Python (learn-env)",
   "language": "python",
   "name": "learn-env"
  },
  "language_info": {
   "codemirror_mode": {
    "name": "ipython",
    "version": 3
   },
   "file_extension": ".py",
   "mimetype": "text/x-python",
   "name": "python",
   "nbconvert_exporter": "python",
   "pygments_lexer": "ipython3",
   "version": "3.8.5"
  }
 },
 "nbformat": 4,
 "nbformat_minor": 4
}
