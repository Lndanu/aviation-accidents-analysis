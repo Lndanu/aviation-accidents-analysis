{
 "cells": [
  {
   "cell_type": "markdown",
   "metadata": {},
   "source": [
    "# Aviation Risk Analysis for Aircraft Acquisition\n",
    "\n",
    "## Introduction\n",
    "As our company explores the opportunity to diversify into the aviation industry, this project aims to identify aircraft types with the lowest risk based on historical accident data. Using aviation incident records from 1962 to 2023, our goal is to deliver data-driven insights to guide aircraft purchasing decisions.\n",
    "\n",
    "## Business Quesstions Im tryinng to answer and Explore in EDA\n",
    "\n",
    "1. Which aircraft makes/models are most often involved in fatal accidents?\n",
    "2. Which phases of flight have the highest fatality or damage rates?\n",
    "3. Does weather condition impact injury severity or accident frequency?\n",
    "4. Which purposes of flight have more severe outcomes (e.g., personal vs. commercial)?\n",
    "5. Have fatal accidents decreased over the decades?\n",
    "6. What is the correlation between aircraft features (like engine count) and accident severity?\n",
    "\n",
    "These questions will guide our analysis and inform actionable recommendations for aircraft acquisition.\n",
    "\n",
    "### Stakeholder\n",
    "The Head of the Aviation Division will use this analysis to decide which aircraft to consider acquiring for safe and reliable operations. Our recommendations aim to reduce operational risks and ensure strong entry into the aviation market."
   ]
  },
  {
   "cell_type": "markdown",
   "metadata": {},
   "source": [
    "## Data Understanding\n",
    "\n",
    "The dataset comes from the [National Transportation Safety Board (NTSB)], which provides data on civil aviation accidents and selected incidents from 1962 to 2023. It includes details such as:\n",
    "\n",
    "- Event Date & Location\n",
    "- Aircraft Make/Model\n",
    "- Flight Purpose (Personal, Commercial, etc.)\n",
    "- Injury Severity\n",
    "- Phase of Flight (Takeoff, Landing, etc.)\n",
    "- Weather Conditions\n",
    "- Aircraft Damage\n",
    "- Narrative Descriptions\n",
    "\n",
    "This dataset is relevant because it allows us to analyze patterns of risk associated with different aircraft types, operational environments, and usage conditions. \n",
    "\n",
    "### Dataset Summary (To be filled after loading the data):\n",
    "- Number of rows: \n",
    "- Number of columns: \n",
    "- Features of interest: Aircraft Model, Injury Severity, Phase of Flight, Weather, Aircraft Damage\n",
    "\n",
    "### Coded Fields\n",
    "Some fields are encoded using abbreviations (e.g., `INJURY_SEVERITY` might contain values like 'FAT' for Fatal, 'MIN' for Minor). These need to be decoded for clarity before meaningful analysis.\n",
    "\n",
    "A decoding step will be done as part of data preparation, and a dictionary of decoded values will be maintained to enhance interpretability.\n",
    "\n",
    "### Limitations:\n",
    "- Many rows have missing values\n",
    "- Some fields are in free-text (e.g., narratives)\n",
    "- International accidents might be inconsistently reported\n",
    "- Some variables require decoding to be useful for analysis"
   ]
  },
  {
   "cell_type": "markdown",
   "metadata": {},
   "source": [
    "## Data Preparation\n",
    "\n",
    "In this section, we will load the raw aviation accident dataset and perform initial data cleaning and preparation to make it suitable for analysis.\n",
    "\n",
    "### Steps:\n",
    "\n",
    "1. Load the dataset: Import the aviation dataset using pandas.\n",
    "2. Preview the data: Display the first few rows to get a sense of its structure and values.\n",
    "3. Understand column types and names: Identify useful features for analysis.\n",
    "4. Check for missing values: Determine where imputation or exclusion might be needed.\n",
    "5. Identify coded or unclear values: Pinpoint fields that use abbreviations or codes and create a decoding strategy.\n",
    "6. Rename columns (if needed): Make column names more readable and descriptive.\n",
    "7. Drop or fill irrelevant or incomplete data: Depending on the relevance of columns or percentage of missing values.\n",
    "8. Check for duplicates\n",
    "\n",
    "This preparation phase is crucial for cleaning the data and making sure it's usable for generating actionable insights."
   ]
  },
  {
   "cell_type": "code",
   "execution_count": 27,
   "metadata": {},
   "outputs": [
    {
     "name": "stderr",
     "output_type": "stream",
     "text": [
      "C:\\Users\\LENOVO\\anaconda3\\envs\\learn-env\\lib\\site-packages\\IPython\\core\\interactiveshell.py:3145: DtypeWarning: Columns (6,7,28) have mixed types.Specify dtype option on import or set low_memory=False.\n",
      "  has_raised = await self.run_ast_nodes(code_ast.body, cell_name,\n"
     ]
    },
    {
     "data": {
      "text/html": [
       "<div>\n",
       "<style scoped>\n",
       "    .dataframe tbody tr th:only-of-type {\n",
       "        vertical-align: middle;\n",
       "    }\n",
       "\n",
       "    .dataframe tbody tr th {\n",
       "        vertical-align: top;\n",
       "    }\n",
       "\n",
       "    .dataframe thead th {\n",
       "        text-align: right;\n",
       "    }\n",
       "</style>\n",
       "<table border=\"1\" class=\"dataframe\">\n",
       "  <thead>\n",
       "    <tr style=\"text-align: right;\">\n",
       "      <th></th>\n",
       "      <th>Event.Id</th>\n",
       "      <th>Investigation.Type</th>\n",
       "      <th>Accident.Number</th>\n",
       "      <th>Event.Date</th>\n",
       "      <th>Location</th>\n",
       "      <th>Country</th>\n",
       "      <th>Latitude</th>\n",
       "      <th>Longitude</th>\n",
       "      <th>Airport.Code</th>\n",
       "      <th>Airport.Name</th>\n",
       "      <th>...</th>\n",
       "      <th>Purpose.of.flight</th>\n",
       "      <th>Air.carrier</th>\n",
       "      <th>Total.Fatal.Injuries</th>\n",
       "      <th>Total.Serious.Injuries</th>\n",
       "      <th>Total.Minor.Injuries</th>\n",
       "      <th>Total.Uninjured</th>\n",
       "      <th>Weather.Condition</th>\n",
       "      <th>Broad.phase.of.flight</th>\n",
       "      <th>Report.Status</th>\n",
       "      <th>Publication.Date</th>\n",
       "    </tr>\n",
       "  </thead>\n",
       "  <tbody>\n",
       "    <tr>\n",
       "      <th>0</th>\n",
       "      <td>20001218X45444</td>\n",
       "      <td>Accident</td>\n",
       "      <td>SEA87LA080</td>\n",
       "      <td>1948-10-24</td>\n",
       "      <td>MOOSE CREEK, ID</td>\n",
       "      <td>United States</td>\n",
       "      <td>NaN</td>\n",
       "      <td>NaN</td>\n",
       "      <td>NaN</td>\n",
       "      <td>NaN</td>\n",
       "      <td>...</td>\n",
       "      <td>Personal</td>\n",
       "      <td>NaN</td>\n",
       "      <td>2.0</td>\n",
       "      <td>0.0</td>\n",
       "      <td>0.0</td>\n",
       "      <td>0.0</td>\n",
       "      <td>UNK</td>\n",
       "      <td>Cruise</td>\n",
       "      <td>Probable Cause</td>\n",
       "      <td>NaN</td>\n",
       "    </tr>\n",
       "    <tr>\n",
       "      <th>1</th>\n",
       "      <td>20001218X45447</td>\n",
       "      <td>Accident</td>\n",
       "      <td>LAX94LA336</td>\n",
       "      <td>1962-07-19</td>\n",
       "      <td>BRIDGEPORT, CA</td>\n",
       "      <td>United States</td>\n",
       "      <td>NaN</td>\n",
       "      <td>NaN</td>\n",
       "      <td>NaN</td>\n",
       "      <td>NaN</td>\n",
       "      <td>...</td>\n",
       "      <td>Personal</td>\n",
       "      <td>NaN</td>\n",
       "      <td>4.0</td>\n",
       "      <td>0.0</td>\n",
       "      <td>0.0</td>\n",
       "      <td>0.0</td>\n",
       "      <td>UNK</td>\n",
       "      <td>Unknown</td>\n",
       "      <td>Probable Cause</td>\n",
       "      <td>19-09-1996</td>\n",
       "    </tr>\n",
       "    <tr>\n",
       "      <th>2</th>\n",
       "      <td>20061025X01555</td>\n",
       "      <td>Accident</td>\n",
       "      <td>NYC07LA005</td>\n",
       "      <td>1974-08-30</td>\n",
       "      <td>Saltville, VA</td>\n",
       "      <td>United States</td>\n",
       "      <td>36.9222</td>\n",
       "      <td>-81.8781</td>\n",
       "      <td>NaN</td>\n",
       "      <td>NaN</td>\n",
       "      <td>...</td>\n",
       "      <td>Personal</td>\n",
       "      <td>NaN</td>\n",
       "      <td>3.0</td>\n",
       "      <td>NaN</td>\n",
       "      <td>NaN</td>\n",
       "      <td>NaN</td>\n",
       "      <td>IMC</td>\n",
       "      <td>Cruise</td>\n",
       "      <td>Probable Cause</td>\n",
       "      <td>26-02-2007</td>\n",
       "    </tr>\n",
       "    <tr>\n",
       "      <th>3</th>\n",
       "      <td>20001218X45448</td>\n",
       "      <td>Accident</td>\n",
       "      <td>LAX96LA321</td>\n",
       "      <td>1977-06-19</td>\n",
       "      <td>EUREKA, CA</td>\n",
       "      <td>United States</td>\n",
       "      <td>NaN</td>\n",
       "      <td>NaN</td>\n",
       "      <td>NaN</td>\n",
       "      <td>NaN</td>\n",
       "      <td>...</td>\n",
       "      <td>Personal</td>\n",
       "      <td>NaN</td>\n",
       "      <td>2.0</td>\n",
       "      <td>0.0</td>\n",
       "      <td>0.0</td>\n",
       "      <td>0.0</td>\n",
       "      <td>IMC</td>\n",
       "      <td>Cruise</td>\n",
       "      <td>Probable Cause</td>\n",
       "      <td>12-09-2000</td>\n",
       "    </tr>\n",
       "    <tr>\n",
       "      <th>4</th>\n",
       "      <td>20041105X01764</td>\n",
       "      <td>Accident</td>\n",
       "      <td>CHI79FA064</td>\n",
       "      <td>1979-08-02</td>\n",
       "      <td>Canton, OH</td>\n",
       "      <td>United States</td>\n",
       "      <td>NaN</td>\n",
       "      <td>NaN</td>\n",
       "      <td>NaN</td>\n",
       "      <td>NaN</td>\n",
       "      <td>...</td>\n",
       "      <td>Personal</td>\n",
       "      <td>NaN</td>\n",
       "      <td>1.0</td>\n",
       "      <td>2.0</td>\n",
       "      <td>NaN</td>\n",
       "      <td>0.0</td>\n",
       "      <td>VMC</td>\n",
       "      <td>Approach</td>\n",
       "      <td>Probable Cause</td>\n",
       "      <td>16-04-1980</td>\n",
       "    </tr>\n",
       "  </tbody>\n",
       "</table>\n",
       "<p>5 rows × 31 columns</p>\n",
       "</div>"
      ],
      "text/plain": [
       "         Event.Id Investigation.Type Accident.Number  Event.Date  \\\n",
       "0  20001218X45444           Accident      SEA87LA080  1948-10-24   \n",
       "1  20001218X45447           Accident      LAX94LA336  1962-07-19   \n",
       "2  20061025X01555           Accident      NYC07LA005  1974-08-30   \n",
       "3  20001218X45448           Accident      LAX96LA321  1977-06-19   \n",
       "4  20041105X01764           Accident      CHI79FA064  1979-08-02   \n",
       "\n",
       "          Location        Country Latitude Longitude Airport.Code  \\\n",
       "0  MOOSE CREEK, ID  United States      NaN       NaN          NaN   \n",
       "1   BRIDGEPORT, CA  United States      NaN       NaN          NaN   \n",
       "2    Saltville, VA  United States  36.9222  -81.8781          NaN   \n",
       "3       EUREKA, CA  United States      NaN       NaN          NaN   \n",
       "4       Canton, OH  United States      NaN       NaN          NaN   \n",
       "\n",
       "  Airport.Name  ... Purpose.of.flight Air.carrier Total.Fatal.Injuries  \\\n",
       "0          NaN  ...          Personal         NaN                  2.0   \n",
       "1          NaN  ...          Personal         NaN                  4.0   \n",
       "2          NaN  ...          Personal         NaN                  3.0   \n",
       "3          NaN  ...          Personal         NaN                  2.0   \n",
       "4          NaN  ...          Personal         NaN                  1.0   \n",
       "\n",
       "  Total.Serious.Injuries Total.Minor.Injuries Total.Uninjured  \\\n",
       "0                    0.0                  0.0             0.0   \n",
       "1                    0.0                  0.0             0.0   \n",
       "2                    NaN                  NaN             NaN   \n",
       "3                    0.0                  0.0             0.0   \n",
       "4                    2.0                  NaN             0.0   \n",
       "\n",
       "  Weather.Condition  Broad.phase.of.flight   Report.Status Publication.Date  \n",
       "0               UNK                 Cruise  Probable Cause              NaN  \n",
       "1               UNK                Unknown  Probable Cause       19-09-1996  \n",
       "2               IMC                 Cruise  Probable Cause       26-02-2007  \n",
       "3               IMC                 Cruise  Probable Cause       12-09-2000  \n",
       "4               VMC               Approach  Probable Cause       16-04-1980  \n",
       "\n",
       "[5 rows x 31 columns]"
      ]
     },
     "execution_count": 27,
     "metadata": {},
     "output_type": "execute_result"
    }
   ],
   "source": [
    "# Step 1: Import libraries\n",
    "import pandas as pd\n",
    "\n",
    "# Step 2: Load dataset and encode\n",
    "file_path = 'C:/Users/LENOVO/Documents/Moringa-2025/Phase 1/aviation-accidents-analysis/data/AviationData.csv'\n",
    "df = pd.read_csv(file_path, encoding='ISO-8859-1')\n",
    "\n",
    "# Step 3: Preview the first few rows\n",
    "df.head()"
   ]
  },
  {
   "cell_type": "markdown",
   "metadata": {},
   "source": [
    "### Feature Selection and Decoding Strategy\n",
    "\n",
    "We will focus on the following key features to understand risk patterns associated with different aircraft:\n",
    "\n",
    "- Aircraft Make and Model: To identify which aircraft are associated with fewer or more severe accidents.\n",
    "- Injury Severity & Damage: To measure accident outcomes.\n",
    "- Weather Condition: To understand external risk contributors.\n",
    "- Purpose of Flight: To segment commercial vs. personal flights.\n",
    "- Flight Phase: To see which phases are riskier (e.g., takeoff vs. landing).\n",
    "- Engine Type & Count: May affect accident outcomes.\n",
    "- Country/Location: Regional trends or risks.\n",
    "\n",
    "We will decode columns such as `Injury.Severity`, `Aircraft.damage`, `Weather.Condition`, and `Purpose.of.flight` to make values human-readable and usable in visualizations.\n",
    "\n",
    "Irrelevant or redundant columns such as IDs, exact coordinates, and airport names will be dropped from the working dataset."
   ]
  },
  {
   "cell_type": "code",
   "execution_count": 28,
   "metadata": {},
   "outputs": [
    {
     "data": {
      "text/html": [
       "<div>\n",
       "<style scoped>\n",
       "    .dataframe tbody tr th:only-of-type {\n",
       "        vertical-align: middle;\n",
       "    }\n",
       "\n",
       "    .dataframe tbody tr th {\n",
       "        vertical-align: top;\n",
       "    }\n",
       "\n",
       "    .dataframe thead th {\n",
       "        text-align: right;\n",
       "    }\n",
       "</style>\n",
       "<table border=\"1\" class=\"dataframe\">\n",
       "  <thead>\n",
       "    <tr style=\"text-align: right;\">\n",
       "      <th></th>\n",
       "      <th>Injury.Severity</th>\n",
       "      <th>Aircraft.damage</th>\n",
       "      <th>Weather.Condition</th>\n",
       "      <th>Broad.phase.of.flight</th>\n",
       "      <th>Purpose.of.flight</th>\n",
       "    </tr>\n",
       "  </thead>\n",
       "  <tbody>\n",
       "    <tr>\n",
       "      <th>0</th>\n",
       "      <td>Other</td>\n",
       "      <td>Destroyed</td>\n",
       "      <td>Unknown</td>\n",
       "      <td>Cruise</td>\n",
       "      <td>Personal</td>\n",
       "    </tr>\n",
       "    <tr>\n",
       "      <th>1</th>\n",
       "      <td>Other</td>\n",
       "      <td>Destroyed</td>\n",
       "      <td>Unknown</td>\n",
       "      <td>Unknown</td>\n",
       "      <td>Personal</td>\n",
       "    </tr>\n",
       "    <tr>\n",
       "      <th>2</th>\n",
       "      <td>Other</td>\n",
       "      <td>Destroyed</td>\n",
       "      <td>Instrument Meteorological Conditions</td>\n",
       "      <td>Cruise</td>\n",
       "      <td>Personal</td>\n",
       "    </tr>\n",
       "    <tr>\n",
       "      <th>3</th>\n",
       "      <td>Other</td>\n",
       "      <td>Destroyed</td>\n",
       "      <td>Instrument Meteorological Conditions</td>\n",
       "      <td>Cruise</td>\n",
       "      <td>Personal</td>\n",
       "    </tr>\n",
       "    <tr>\n",
       "      <th>4</th>\n",
       "      <td>Other</td>\n",
       "      <td>Destroyed</td>\n",
       "      <td>Visual Meteorological Conditions</td>\n",
       "      <td>Approach</td>\n",
       "      <td>Personal</td>\n",
       "    </tr>\n",
       "  </tbody>\n",
       "</table>\n",
       "</div>"
      ],
      "text/plain": [
       "  Injury.Severity Aircraft.damage                     Weather.Condition  \\\n",
       "0           Other       Destroyed                               Unknown   \n",
       "1           Other       Destroyed                               Unknown   \n",
       "2           Other       Destroyed  Instrument Meteorological Conditions   \n",
       "3           Other       Destroyed  Instrument Meteorological Conditions   \n",
       "4           Other       Destroyed      Visual Meteorological Conditions   \n",
       "\n",
       "  Broad.phase.of.flight Purpose.of.flight  \n",
       "0                Cruise          Personal  \n",
       "1               Unknown          Personal  \n",
       "2                Cruise          Personal  \n",
       "3                Cruise          Personal  \n",
       "4              Approach          Personal  "
      ]
     },
     "execution_count": 28,
     "metadata": {},
     "output_type": "execute_result"
    }
   ],
   "source": [
    "# Decoding dictionaries \n",
    "injury_severity_map = {'Fatal': 'Fatal','Non-Fatal': 'Non-Fatal','Incident': 'Incident','Accident': 'Accident','Unavailable': 'Unknown','Serious': 'Serious'}\n",
    "aircraft_damage_map = {'Destroyed': 'Destroyed','Substantial': 'Substantial','Minor': 'Minor','Unknown': 'Unknown','None': 'None'}\n",
    "\n",
    "weather_condition_map = {'VMC': 'Visual Meteorological Conditions','IMC': 'Instrument Meteorological Conditions','UNK': 'Unknown'}\n",
    "\n",
    "# You can update this further based on your data\n",
    "flight_phase_map = {'Takeoff': 'Takeoff','Landing': 'Landing','Cruise': 'Cruise','Approach': 'Approach','Taxi': 'Taxi','Climb': 'Climb','Descent': 'Descent','Standing': 'Standing','Unknown': 'Unknown'}\n",
    "\n",
    "purpose_map = {'Personal': 'Personal','Business': 'Business','Instructional': 'Training','Public Use': 'Government','Positioning': 'Relocation','Aerial Application': 'Agriculture','Other': 'Other'}\n",
    "\n",
    "# Apply decoding\n",
    "df['Injury.Severity'] = df['Injury.Severity'].map(injury_severity_map).fillna('Other')\n",
    "df['Aircraft.damage'] = df['Aircraft.damage'].map(aircraft_damage_map).fillna('Unknown')\n",
    "df['Weather.Condition'] = df['Weather.Condition'].map(weather_condition_map).fillna('Unknown')\n",
    "df['Broad.phase.of.flight'] = df['Broad.phase.of.flight'].map(flight_phase_map).fillna('Unknown')\n",
    "df['Purpose.of.flight'] = df['Purpose.of.flight'].map(purpose_map).fillna('Other')\n",
    "\n",
    "# Preview updated columns\n",
    "df[['Injury.Severity', 'Aircraft.damage', 'Weather.Condition', 'Broad.phase.of.flight', 'Purpose.of.flight']].head()"
   ]
  },
  {
   "cell_type": "code",
   "execution_count": 40,
   "metadata": {},
   "outputs": [
    {
     "name": "stdout",
     "output_type": "stream",
     "text": [
      "['Investigation.Type', 'Event.Date', 'Location', 'Country', 'Injury.Severity', 'Aircraft.damage', 'Make', 'Model', 'Amateur.Built', 'Number.of.Engines', 'Engine.Type', 'Purpose.of.flight', 'Total.Fatal.Injuries', 'Total.Serious.Injuries', 'Total.Minor.Injuries', 'Total.Uninjured', 'Weather.Condition', 'Broad.phase.of.flight']\n"
     ]
    }
   ],
   "source": [
    "print(df.columns.tolist())"
   ]
  },
  {
   "cell_type": "code",
   "execution_count": 41,
   "metadata": {},
   "outputs": [],
   "source": [
    "# Drop irrelevant columns\n",
    "cols_to_drop = ['Event.Id', 'Accident.Number', 'Registration.Number','Latitude', 'Longitude', 'Airport.Code', 'Airport.Name','Air.carrier', 'Schedule', 'FAR.Description','Report.Status', 'Publication.Date']\n",
    "\n",
    "df.drop(columns=cols_to_drop, inplace=True, errors='ignore')"
   ]
  },
  {
   "cell_type": "code",
   "execution_count": 42,
   "metadata": {},
   "outputs": [
    {
     "data": {
      "text/plain": [
       "Country                   0.254250\n",
       "Amateur.Built             0.114750\n",
       "Model                     0.103500\n",
       "Make                      0.070875\n",
       "Location                  0.058500\n",
       "Weather.Condition         0.000000\n",
       "Event.Date                0.000000\n",
       "Injury.Severity           0.000000\n",
       "Aircraft.damage           0.000000\n",
       "Broad.phase.of.flight     0.000000\n",
       "Number.of.Engines         0.000000\n",
       "Engine.Type               0.000000\n",
       "Purpose.of.flight         0.000000\n",
       "Total.Fatal.Injuries      0.000000\n",
       "Total.Serious.Injuries    0.000000\n",
       "Total.Minor.Injuries      0.000000\n",
       "Total.Uninjured           0.000000\n",
       "Investigation.Type        0.000000\n",
       "dtype: float64"
      ]
     },
     "execution_count": 42,
     "metadata": {},
     "output_type": "execute_result"
    }
   ],
   "source": [
    "# Check % of missing values\n",
    "missing_percent = df.isnull().mean().sort_values(ascending=False) * 100\n",
    "missing_percent"
   ]
  },
  {
   "cell_type": "code",
   "execution_count": 43,
   "metadata": {},
   "outputs": [
    {
     "data": {
      "text/plain": [
       "Country                   226\n",
       "Amateur.Built             102\n",
       "Model                      92\n",
       "Make                       63\n",
       "Location                   52\n",
       "Weather.Condition           0\n",
       "Event.Date                  0\n",
       "Injury.Severity             0\n",
       "Aircraft.damage             0\n",
       "Broad.phase.of.flight       0\n",
       "Number.of.Engines           0\n",
       "Engine.Type                 0\n",
       "Purpose.of.flight           0\n",
       "Total.Fatal.Injuries        0\n",
       "Total.Serious.Injuries      0\n",
       "Total.Minor.Injuries        0\n",
       "Total.Uninjured             0\n",
       "Investigation.Type          0\n",
       "dtype: int64"
      ]
     },
     "execution_count": 43,
     "metadata": {},
     "output_type": "execute_result"
    }
   ],
   "source": [
    "df.isnull().sum().sort_values(ascending=False)"
   ]
  },
  {
   "cell_type": "code",
   "execution_count": 45,
   "metadata": {},
   "outputs": [],
   "source": [
    "# Impute remaining missing values with appropriate defaults\n",
    "df['Country'] = df['Country'].fillna('Unknown')\n",
    "df['Amateur.Built'] = df['Amateur.Built'].fillna('No')\n",
    "df['Model'] = df['Model'].fillna('Unknown')\n",
    "df['Make'] = df['Make'].fillna('Unknown')\n",
    "df['Location'] = df['Location'].fillna('Unknown')"
   ]
  },
  {
   "cell_type": "code",
   "execution_count": 46,
   "metadata": {},
   "outputs": [
    {
     "data": {
      "text/plain": [
       "0"
      ]
     },
     "execution_count": 46,
     "metadata": {},
     "output_type": "execute_result"
    }
   ],
   "source": [
    "df.isnull().sum().sum()"
   ]
  },
  {
   "cell_type": "markdown",
   "metadata": {},
   "source": [
    "### EDA and Visualization Insights"
   ]
  },
  {
   "cell_type": "code",
   "execution_count": 51,
   "metadata": {},
   "outputs": [
    {
     "data": {
      "image/png": "[encoded data removed]",
      "text/plain": [
       "<Figure size 864x432 with 1 Axes>"
      ]
     },
     "metadata": {
      "needs_background": "light"
     },
     "output_type": "display_data"
    }
   ],
   "source": [
    "# Standardize aircraft make names to title case\n",
    "df['Make'] = df['Make'].str.title()\n",
    "\n",
    "#Group by aircraft make and sum fatal injuries\n",
    "fatal_by_make = df.groupby('Make')['Total.Fatal.Injuries'].sum().sort_values(ascending=False).head(10)\n",
    "\n",
    "# Plot\n",
    "import matplotlib.pyplot as plt\n",
    "from matplotlib.ticker import FuncFormatter\n",
    "\n",
    "plt.figure(figsize=(12,6))\n",
    "ax = fatal_by_make.plot(kind='bar', color='#FF481D')\n",
    "\n",
    "# Add comma separator to y-axis\n",
    "ax.yaxis.set_major_formatter(FuncFormatter(lambda x, _: f'{int(x):,}'))\n",
    "\n",
    "plt.title('Top 10 Aircraft Makes by Total Fatal Injuries', fontsize=14)\n",
    "plt.ylabel('Total Fatal Injuries')\n",
    "plt.xlabel('Aircraft Make')\n",
    "plt.xticks(rotation=45)\n",
    "plt.grid(axis='y', linestyle='--', alpha=0.7)\n",
    "plt.tight_layout()\n",
    "plt.show()"
   ]
  },
  {
   "cell_type": "markdown",
   "metadata": {},
   "source": [
    "### Which phases of flight have the highest fatality or damage rates?"
   ]
  },
  {
   "cell_type": "code",
   "execution_count": 52,
   "metadata": {},
   "outputs": [
    {
     "data": {
      "image/png": "[encoded data removed]",
      "text/plain": [
       "<Figure size 720x432 with 1 Axes>"
      ]
     },
     "metadata": {
      "needs_background": "light"
     },
     "output_type": "display_data"
    }
   ],
   "source": [
    "# Group by flight phase and sum total fatal injuries\n",
    "fatal_by_phase = df.groupby('Broad.phase.of.flight')['Total.Fatal.Injuries'].sum().sort_values(ascending=False)\n",
    "\n",
    "# Plot\n",
    "plt.figure(figsize=(10,6))\n",
    "ax = fatal_by_phase.plot(kind='bar', color='#FF481D')  # Keeping that Vermilion vibe\n",
    "ax.yaxis.set_major_formatter(FuncFormatter(lambda x, _: f'{int(x):,}'))\n",
    "\n",
    "plt.title('Total Fatal Injuries by Phase of Flight', fontsize=14)\n",
    "plt.ylabel('Total Fatal Injuries')\n",
    "plt.xlabel('Phase of Flight')\n",
    "plt.xticks(rotation=45)\n",
    "plt.grid(axis='y', linestyle='--', alpha=0.7)\n",
    "plt.tight_layout()\n",
    "plt.show()"
   ]
  },
  {
   "cell_type": "code",
   "execution_count": null,
   "metadata": {},
   "outputs": [],
   "source": []
  }
 ],
 "metadata": {
  "kernelspec": {
   "display_name": "Python (learn-env)",
   "language": "python",
   "name": "learn-env"
  },
  "language_info": {
   "codemirror_mode": {
    "name": "ipython",
    "version": 3
   },
   "file_extension": ".py",
   "mimetype": "text/x-python",
   "name": "python",
   "nbconvert_exporter": "python",
   "pygments_lexer": "ipython3",
   "version": "3.8.5"
  }
 },
 "nbformat": 4,
 "nbformat_minor": 4
}
